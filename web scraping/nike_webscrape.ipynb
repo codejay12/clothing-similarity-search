{
 "cells": [
  {
   "cell_type": "code",
   "execution_count": 1,
   "metadata": {},
   "outputs": [],
   "source": [
    "import pandas as pd\n",
    "import requests\n",
    "from bs4 import BeautifulSoup\n",
    "from tqdm import tqdm\n",
    "import re                                  # library for regular expression operations\n",
    "import string \n",
    "from tqdm import tqdm"
   ]
  },
  {
   "cell_type": "code",
   "execution_count": 56,
   "metadata": {},
   "outputs": [],
   "source": [
    "baseurl = \"https://www.nike.com\"\n",
    "headers = {'User-Agent': 'Mozilla/5.0 (Windows NT 10.0; Win64; x64) AppleWebKit/537.36 (KHTML, like Gecko) Chrome/89.0.4389.82 Safari/537.36'}"
   ]
  },
  {
   "attachments": {},
   "cell_type": "markdown",
   "metadata": {},
   "source": [
    "Nike website "
   ]
  },
  {
   "cell_type": "code",
   "execution_count": 64,
   "metadata": {},
   "outputs": [
    {
     "ename": "TypeError",
     "evalue": "'NoneType' object is not subscriptable",
     "output_type": "error",
     "traceback": [
      "\u001b[1;31m---------------------------------------------------------------------------\u001b[0m",
      "\u001b[1;31mTypeError\u001b[0m                                 Traceback (most recent call last)",
      "Cell \u001b[1;32mIn[64], line 26\u001b[0m\n\u001b[0;32m     23\u001b[0m \u001b[39mfor\u001b[39;00m card \u001b[39min\u001b[39;00m product_cards:\n\u001b[0;32m     24\u001b[0m     \u001b[39m# Extract product title\u001b[39;00m\n\u001b[0;32m     25\u001b[0m     link_element \u001b[39m=\u001b[39m card\u001b[39m.\u001b[39mfind(\u001b[39m\"\u001b[39m\u001b[39ma\u001b[39m\u001b[39m\"\u001b[39m, class_\u001b[39m=\u001b[39m\u001b[39m\"\u001b[39m\u001b[39m_2UzuFa\u001b[39m\u001b[39m\"\u001b[39m)\n\u001b[1;32m---> 26\u001b[0m     link \u001b[39m=\u001b[39m link_element[\u001b[39m\"\u001b[39;49m\u001b[39mhref\u001b[39;49m\u001b[39m\"\u001b[39;49m]\n\u001b[0;32m     27\u001b[0m     links\u001b[39m.\u001b[39mappend(link)\n",
      "\u001b[1;31mTypeError\u001b[0m: 'NoneType' object is not subscriptable"
     ]
    }
   ],
   "source": [
    "import requests\n",
    "from bs4 import BeautifulSoup\n",
    "\n",
    "urls = [\"https://www.nike.com/in/w/mens-tops-t-shirts-9om13znik1\",\"https://www.nike.com/in/w/mens-hoodies-45iarznik1\",\n",
    "       \"https://www.nike.com/in/w/mens-long-sleeve-shirts-4cvaeznik1\",\"https://www.nike.com/in/w/mens-short-sleeve-shirts-6cb3pznik1\",\n",
    "       \"https://www.nike.com/in/w/mens-tank-tops-sleeveless-shirts-18iwiznik1\",\"https://www.nike.com/in/w/mens-polos-9uaqmznik1\",\n",
    "       \"https://www.nike.com/in/w/mens-kits-jerseys-3a41eznik1\"]\n",
    "       \n",
    "links=[]\n",
    "# Send a GET request to the URL\n",
    "for url in urls:\n",
    "    response = requests.get(url)\n",
    "\n",
    "    # Create a BeautifulSoup object to parse the HTML content\n",
    "    soup = BeautifulSoup(response.content, 'html.parser')\n",
    "\n",
    "    # Find the relevant elements on the page and extract the desired information\n",
    "    product_cards = soup.find_all(\"div\", class_=\"product-card\")\n",
    "\n",
    "\n",
    "    # Extract information for each product card\n",
    "    \n",
    "    for card in product_cards:\n",
    "        # Extract product title\n",
    "        link_element = card.find(\"a\", class_=\"product-card__link-overlay\")\n",
    "        link = link_element[\"href\"]\n",
    "        links.append(link)\n"
   ]
  },
  {
   "cell_type": "code",
   "execution_count": 62,
   "metadata": {},
   "outputs": [
    {
     "data": {
      "text/plain": [
       "153"
      ]
     },
     "execution_count": 62,
     "metadata": {},
     "output_type": "execute_result"
    }
   ],
   "source": [
    "len(links)"
   ]
  },
  {
   "cell_type": "code",
   "execution_count": 63,
   "metadata": {},
   "outputs": [],
   "source": [
    "data=[]\n",
    "for link in links:\n",
    "    response = requests.get(link)\n",
    "\n",
    "# Create a BeautifulSoup object to parse the HTML content\n",
    "    soup = BeautifulSoup(response.content, 'html.parser')\n",
    "\n",
    "    try:\n",
    "        title=soup.find(\"h1\", class_=\"headline-2\").getText()\n",
    "    except:\n",
    "        title = None\n",
    "\n",
    "    try:\n",
    "        sub_title=soup.find(\"h2\",class_=\"headline-5\").getText()\n",
    "    except:\n",
    "        sub_title=None\n",
    "\n",
    "    try:\n",
    "        price = soup.find(\"div\", class_=\"product-price css-11s12ax is--current-price css-tpaepq\").getText()\n",
    "        price=price.strip(\"MRP : ₹\")\n",
    "    except:\n",
    "        price=None\n",
    "\n",
    "    try:\n",
    "        about = soup.find(\"div\",class_=\"description-preview body-2 css-1pbvugb\").getText()\n",
    "    except:\n",
    "        about= None\n",
    "\n",
    "    try:\n",
    "        color=soup.find(\"li\",class_=\"description-preview__color-description ncss-li\").getText()\n",
    "        color=color.strip(\"Colour Shown:\")\n",
    "    except:\n",
    "        color=None\n",
    "\n",
    "    nike = {\"web\":link,\"title\":title,\"subtile\":sub_title,\"price\":price,\"about\":about,\"color\":color}\n",
    "\n",
    "    data.append(nike)"
   ]
  },
  {
   "cell_type": "code",
   "execution_count": 66,
   "metadata": {},
   "outputs": [],
   "source": [
    "df=pd.DataFrame(data)\n",
    "df.to_csv(\"nike.csv\",index=False)"
   ]
  },
  {
   "cell_type": "code",
   "execution_count": null,
   "metadata": {},
   "outputs": [],
   "source": []
  },
  {
   "cell_type": "code",
   "execution_count": null,
   "metadata": {},
   "outputs": [],
   "source": []
  }
 ],
 "metadata": {
  "kernelspec": {
   "display_name": "Python 3",
   "language": "python",
   "name": "python3"
  },
  "language_info": {
   "codemirror_mode": {
    "name": "ipython",
    "version": 3
   },
   "file_extension": ".py",
   "mimetype": "text/x-python",
   "name": "python",
   "nbconvert_exporter": "python",
   "pygments_lexer": "ipython3",
   "version": "3.10.8"
  },
  "orig_nbformat": 4
 },
 "nbformat": 4,
 "nbformat_minor": 2
}
